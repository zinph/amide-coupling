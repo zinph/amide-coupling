{
 "cells": [
  {
   "cell_type": "code",
   "execution_count": 2,
   "id": "a4df96ab",
   "metadata": {},
   "outputs": [],
   "source": [
    "from rdkit import Chem\n",
    "from rdkit.Chem import Draw, AllChem\n",
    "from itertools import combinations, permutations\n",
    "from molvs import standardize_smiles"
   ]
  },
  {
   "cell_type": "code",
   "execution_count": 2,
   "id": "3c11166c",
   "metadata": {},
   "outputs": [],
   "source": [
    "def pairwise(given_list):\n",
    "    '''\n",
    "    Generate all possible pairs based on a given list.\n",
    "    s -> (s0,s1), (s1,s2), (s2, s3), ...\n",
    "    '''\n",
    "    res = list(permutations(given_list, 2))\n",
    "    return res"
   ]
  },
  {
   "cell_type": "code",
   "execution_count": 3,
   "id": "172a5947",
   "metadata": {},
   "outputs": [],
   "source": [
    "def make_chunks(given_list, n_blocks_per_container):\n",
    "    '''\n",
    "    Generate all possible pairs based on a given list.\n",
    "    s -> (s0,s1), (s1,s2), (s2, s3), ...\n",
    "    '''\n",
    "    res = list(permutations(given_list, n_blocks_per_container))\n",
    "    return res"
   ]
  },
  {
   "cell_type": "code",
   "execution_count": 4,
   "id": "ed597535",
   "metadata": {
    "scrolled": true
   },
   "outputs": [],
   "source": [
    "def deprotect_fmoc(target_smile):\n",
    "    FMOC_smirks = '[#6:2][N:1]C(=O)OCC1c2ccccc2-c2ccccc12>>[#6:2][N:1]'\n",
    "    fmoc_rxn = AllChem.ReactionFromSmarts(FMOC_smirks)\n",
    "    reactant = Chem.MolFromSmiles(target_smile)\n",
    "    products = fmoc_rxn.RunReactants((reactant,))\n",
    "    try:\n",
    "        deprotected_mol = products[0][0]\n",
    "        deprotected_smile = Chem.MolToSmiles(deprotected_mol)\n",
    "    except:\n",
    "        deprotected_smile = target_smile\n",
    "    return deprotected_smile"
   ]
  },
  {
   "cell_type": "code",
   "execution_count": 5,
   "id": "56eaf08e",
   "metadata": {},
   "outputs": [],
   "source": [
    "def amide_coupling(smile1, smile2):\n",
    "    deprotect_first_smile  = deprotect_fmoc(smile1)\n",
    "    deprotect_second_smile = deprotect_fmoc(smile2)\n",
    "    mol1 = Chem.MolFromSmiles(deprotect_first_smile)\n",
    "    mol2 = Chem.MolFromSmiles(deprotect_second_smile)\n",
    "    smarts = \"[C:1](=[O:2])O.[N:3] >> [C:1](=[O:2])[N:3]\"\n",
    "    rxn3 = AllChem.ReactionFromSmarts (smarts)\n",
    "    products = rxn3.RunReactants ([mol1, mol2])\n",
    "    resulting_smile_list = []\n",
    "    try:\n",
    "        for i in range(len(products)):\n",
    "            resulting_smile = Chem.MolToSmiles(products[i][0])\n",
    "            resulting_smile_list.append(resulting_smile)\n",
    "    except:\n",
    "        pass\n",
    "    return resulting_smile_list\n"
   ]
  },
  {
   "cell_type": "code",
   "execution_count": 6,
   "id": "45788aa0",
   "metadata": {},
   "outputs": [],
   "source": [
    "def multiple_amide_coupling(list_of_smiles):\n",
    "    first_smile = list_of_smiles[0]\n",
    "    for i in range(len(list_of_smiles)-1):\n",
    "        try:\n",
    "            first_smile = amide_coupling(first_smile, list_of_smiles[i+1])[0]\n",
    "        except:\n",
    "            first_smile = ''\n",
    "    return first_smile\n",
    "\n",
    "def make_libary(possible_smile_blocks):\n",
    "    enumerated_library    = []\n",
    "    for smiles_to_piece in possible_smile_blocks:\n",
    "        resulting_cpd = multiple_amide_coupling(list(smiles_to_piece))\n",
    "        try:\n",
    "            canonicalized_resulting_smile = standardize_smiles(resulting_cpd)\n",
    "            if canonicalized_resulting_smile not in enumerated_library:\n",
    "                enumerated_library.append(canonicalized_resulting_smile)\n",
    "        except:\n",
    "            pass\n",
    "    return enumerated_library"
   ]
  },
  {
   "cell_type": "code",
   "execution_count": 7,
   "id": "b1a69c65",
   "metadata": {},
   "outputs": [
    {
     "data": {
      "text/plain": [
       "['CN(CCCCC(=O)O)C(=O)CCC1CCNCC1',\n",
       " 'O=C(CCC1CCNCC1)NC1CCN(c2ccc(C(=O)O)cn2)CC1',\n",
       " 'O=C(CCC1CCNCC1)NC1CCC(C(=O)O)CC1',\n",
       " 'CNCCCCC(=O)N1CCC(CCC(=O)O)CC1',\n",
       " 'CNCCCCC(=O)NC1CCN(c2ccc(C(=O)O)cn2)CC1',\n",
       " 'CNCCCCC(=O)NC1CCC(C(=O)O)CC1',\n",
       " 'NC1CCN(c2ccc(C(=O)N3CCC(CCC(=O)O)CC3)cn2)CC1',\n",
       " 'CN(CCCCC(=O)O)C(=O)c1ccc(N2CCC(N)CC2)nc1',\n",
       " 'NC1CCN(c2ccc(C(=O)NC3CCC(C(=O)O)CC3)cn2)CC1',\n",
       " 'NC1CCC(C(=O)N2CCC(CCC(=O)O)CC2)CC1',\n",
       " 'CN(CCCCC(=O)O)C(=O)C1CCC(N)CC1',\n",
       " 'NC1CCC(C(=O)NC2CCN(c3ccc(C(=O)O)cn3)CC2)CC1',\n",
       " 'O=C(O)CCC1CCN(C(=O)Cn2c(-c3ccccc3)cc3ccccc32)CC1',\n",
       " 'CN(CCCCC(=O)O)C(=O)Cn1c(-c2ccccc2)cc2ccccc21',\n",
       " 'O=C(Cn1c(-c2ccccc2)cc2ccccc21)NC1CCN(c2ccc(C(=O)O)cn2)CC1',\n",
       " 'O=C(Cn1c(-c2ccccc2)cc2ccccc21)NC1CCC(C(=O)O)CC1',\n",
       " 'N#CCn1nccc1C(=O)N1CCC(CCC(=O)O)CC1',\n",
       " 'CN(CCCCC(=O)O)C(=O)c1ccnn1CC#N',\n",
       " 'N#CCn1nccc1C(=O)NC1CCN(c2ccc(C(=O)O)cn2)CC1',\n",
       " 'N#CCn1nccc1C(=O)NC1CCC(C(=O)O)CC1']"
      ]
     },
     "execution_count": 7,
     "metadata": {},
     "output_type": "execute_result"
    }
   ],
   "source": [
    "s1 = \"O=C(O)CCC1CCN(C(=O)OCC2c3ccccc3-c3ccccc32)CC1\"\n",
    "s2 = \"CN(CCCCC(=O)O)C(=O)OCC1c2ccccc2-c2ccccc21\"\n",
    "s3 = \"O=C(NC1CCN(c2ccc(C(=O)O)cn2)CC1)OCC1c2ccccc2-c2ccccc21\"\n",
    "s4 = \"O=C(NC1CCC(C(=O)O)CC1)OCC1c2ccccc2-c2ccccc21\"\n",
    "s5 = \"O=C(O)Cn1c(-c2ccccc2)cc2ccccc21\"\n",
    "s6 = \"N#CCn1nccc1C(=O)O\"\n",
    "\n",
    "\n",
    "list_of_smiles = [s1,s2,s3,s4,s5,s6]\n",
    "desired_blocks_per_molecule = 2\n",
    "possible_smile_blocks = make_chunks(list_of_smiles, desired_blocks_per_molecule)\n",
    "\n",
    "make_libary(possible_smile_blocks)\n",
    "    \n",
    "# print(possible_smile_blocks)\n",
    "# enumerate_smiles(list_of_smiles)"
   ]
  },
  {
   "cell_type": "code",
   "execution_count": 8,
   "id": "d27e1c36",
   "metadata": {},
   "outputs": [],
   "source": [
    "# def draw_reaction(reactants, products):\n",
    "#     rxn = AllChem.ReactionFromSmarts(reactants+'>>'+products, useSmiles=True)\n",
    "#     return Draw.ReactionToImage(rxn)\n",
    "\n",
    "# deprotect_first_smile         = 'O=C(O)CCC1CCNCC1'\n",
    "# deprotect_second_smile        = 'CNCCCCC(=O)O'\n",
    "# canonicalized_resulting_smile = 'CN(CCCCC(=O)O)C(=O)CCC1CCNCC1'\n",
    "# reactants = deprotect_first_smile+'.'+deprotect_second_smile\n",
    "# products  = canonicalized_resulting_smile\n",
    "# draw_reaction(reactants, products)"
   ]
  }
 ],
 "metadata": {
  "kernelspec": {
   "display_name": "Python 3 (ipykernel)",
   "language": "python",
   "name": "python3"
  },
  "language_info": {
   "codemirror_mode": {
    "name": "ipython",
    "version": 3
   },
   "file_extension": ".py",
   "mimetype": "text/x-python",
   "name": "python",
   "nbconvert_exporter": "python",
   "pygments_lexer": "ipython3",
   "version": "3.7.11"
  }
 },
 "nbformat": 4,
 "nbformat_minor": 5
}
